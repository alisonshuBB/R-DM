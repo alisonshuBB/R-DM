{
 "cells": [
  {
   "cell_type": "code",
   "execution_count": 7,
   "metadata": {},
   "outputs": [],
   "source": [
    "# use ctree library\n",
    "library(party)"
   ]
  },
  {
   "cell_type": "code",
   "execution_count": 8,
   "metadata": {},
   "outputs": [],
   "source": [
    "set.seed(1234)"
   ]
  },
  {
   "cell_type": "code",
   "execution_count": 16,
   "metadata": {},
   "outputs": [
    {
     "data": {
      "text/html": [
       "150"
      ],
      "text/latex": [
       "150"
      ],
      "text/markdown": [
       "150"
      ],
      "text/plain": [
       "[1] 150"
      ]
     },
     "metadata": {},
     "output_type": "display_data"
    }
   ],
   "source": [
    "nrow(iris)"
   ]
  },
  {
   "cell_type": "code",
   "execution_count": 17,
   "metadata": {},
   "outputs": [],
   "source": [
    "ind<-sample(2,nrow(iris),replace=TRUE,prob=c(0.7,0.3))"
   ]
  },
  {
   "cell_type": "code",
   "execution_count": 18,
   "metadata": {},
   "outputs": [],
   "source": [
    "traindata <- iris[ind ==1,]"
   ]
  },
  {
   "cell_type": "code",
   "execution_count": 19,
   "metadata": {},
   "outputs": [],
   "source": [
    "testdata<-iris[ind == 2,]"
   ]
  },
  {
   "cell_type": "code",
   "execution_count": 24,
   "metadata": {},
   "outputs": [],
   "source": [
    "myformula <- Species~Sepal.Length + Sepal.Width + Petal.Length + Petal.Width"
   ]
  },
  {
   "cell_type": "code",
   "execution_count": 25,
   "metadata": {},
   "outputs": [],
   "source": [
    "iris_ctree <- ctree(myformula,data=traindata)"
   ]
  },
  {
   "cell_type": "code",
   "execution_count": 26,
   "metadata": {},
   "outputs": [
    {
     "data": {
      "text/plain": [
       "            \n",
       "             setosa versicolor virginica\n",
       "  setosa         40          0         0\n",
       "  versicolor      0         37         3\n",
       "  virginica       0          1        31"
      ]
     },
     "metadata": {},
     "output_type": "display_data"
    }
   ],
   "source": [
    "table(predict(iris_ctree),traindata$Species)"
   ]
  },
  {
   "cell_type": "code",
   "execution_count": 28,
   "metadata": {},
   "outputs": [
    {
     "name": "stdout",
     "output_type": "stream",
     "text": [
      "\n",
      "\t Conditional inference tree with 4 terminal nodes\n",
      "\n",
      "Response:  Species \n",
      "Inputs:  Sepal.Length, Sepal.Width, Petal.Length, Petal.Width \n",
      "Number of observations:  112 \n",
      "\n",
      "1) Petal.Length <= 1.9; criterion = 1, statistic = 104.643\n",
      "  2)*  weights = 40 \n",
      "1) Petal.Length > 1.9\n",
      "  3) Petal.Width <= 1.7; criterion = 1, statistic = 48.939\n",
      "    4) Petal.Length <= 4.4; criterion = 0.974, statistic = 7.397\n",
      "      5)*  weights = 21 \n",
      "    4) Petal.Length > 4.4\n",
      "      6)*  weights = 19 \n",
      "  3) Petal.Width > 1.7\n",
      "    7)*  weights = 32 \n"
     ]
    }
   ],
   "source": [
    "print(iris_ctree)"
   ]
  },
  {
   "cell_type": "code",
   "execution_count": 27,
   "metadata": {},
   "outputs": [
    {
     "data": {
      "image/png": "[encoded data removed]",
      "text/plain": [
       "plot without title"
      ]
     },
     "metadata": {},
     "output_type": "display_data"
    }
   ],
   "source": [
    "plot(iris_ctree)"
   ]
  },
  {
   "cell_type": "code",
   "execution_count": 31,
   "metadata": {},
   "outputs": [],
   "source": [
    "testpred <- predict(iris_ctree,newdata=testdata)"
   ]
  },
  {
   "cell_type": "code",
   "execution_count": 32,
   "metadata": {},
   "outputs": [
    {
     "data": {
      "text/plain": [
       "            \n",
       "testpred     setosa versicolor virginica\n",
       "  setosa         10          0         0\n",
       "  versicolor      0         12         2\n",
       "  virginica       0          0        14"
      ]
     },
     "metadata": {},
     "output_type": "display_data"
    }
   ],
   "source": [
    "table(testpred,testdata$Species)"
   ]
  },
  {
   "cell_type": "code",
   "execution_count": 37,
   "metadata": {},
   "outputs": [],
   "source": [
    "#use rpart library: allow least predict error tree\n",
    "#install.packages(\"rpart\")\n",
    "library(rpart)"
   ]
  },
  {
   "cell_type": "code",
   "execution_count": 45,
   "metadata": {},
   "outputs": [
    {
     "name": "stderr",
     "output_type": "stream",
     "text": [
      "Loading required package: survival\n",
      "\n",
      "Attaching package: 'survival'\n",
      "\n",
      "The following object is masked from 'package:rpart':\n",
      "\n",
      "    solder\n",
      "\n",
      "Loading required package: MASS\n",
      "\n",
      "Attaching package: 'TH.data'\n",
      "\n",
      "The following object is masked _by_ '.GlobalEnv':\n",
      "\n",
      "    bodyfat\n",
      "\n",
      "The following object is masked from 'package:MASS':\n",
      "\n",
      "    geyser\n",
      "\n"
     ]
    }
   ],
   "source": [
    "library(\"TH.data\")"
   ]
  },
  {
   "cell_type": "code",
   "execution_count": 50,
   "metadata": {},
   "outputs": [
    {
     "data": {
      "text/html": [
       "<dl>\n",
       "\t<dt>$names</dt>\n",
       "\t\t<dd><ol class=list-inline>\n",
       "\t<li>'age'</li>\n",
       "\t<li>'DEXfat'</li>\n",
       "\t<li>'waistcirc'</li>\n",
       "\t<li>'hipcirc'</li>\n",
       "\t<li>'elbowbreadth'</li>\n",
       "\t<li>'kneebreadth'</li>\n",
       "\t<li>'anthro3a'</li>\n",
       "\t<li>'anthro3b'</li>\n",
       "\t<li>'anthro3c'</li>\n",
       "\t<li>'anthro4'</li>\n",
       "</ol>\n",
       "</dd>\n",
       "\t<dt>$row.names</dt>\n",
       "\t\t<dd><ol class=list-inline>\n",
       "\t<li>'47'</li>\n",
       "\t<li>'48'</li>\n",
       "\t<li>'49'</li>\n",
       "\t<li>'50'</li>\n",
       "\t<li>'51'</li>\n",
       "\t<li>'52'</li>\n",
       "\t<li>'53'</li>\n",
       "\t<li>'54'</li>\n",
       "\t<li>'55'</li>\n",
       "\t<li>'56'</li>\n",
       "\t<li>'57'</li>\n",
       "\t<li>'58'</li>\n",
       "\t<li>'59'</li>\n",
       "\t<li>'60'</li>\n",
       "\t<li>'61'</li>\n",
       "\t<li>'62'</li>\n",
       "\t<li>'63'</li>\n",
       "\t<li>'64'</li>\n",
       "\t<li>'65'</li>\n",
       "\t<li>'66'</li>\n",
       "\t<li>'67'</li>\n",
       "\t<li>'68'</li>\n",
       "\t<li>'69'</li>\n",
       "\t<li>'70'</li>\n",
       "\t<li>'71'</li>\n",
       "\t<li>'72'</li>\n",
       "\t<li>'73'</li>\n",
       "\t<li>'74'</li>\n",
       "\t<li>'75'</li>\n",
       "\t<li>'76'</li>\n",
       "\t<li>'77'</li>\n",
       "\t<li>'78'</li>\n",
       "\t<li>'79'</li>\n",
       "\t<li>'80'</li>\n",
       "\t<li>'81'</li>\n",
       "\t<li>'82'</li>\n",
       "\t<li>'83'</li>\n",
       "\t<li>'84'</li>\n",
       "\t<li>'85'</li>\n",
       "\t<li>'86'</li>\n",
       "\t<li>'87'</li>\n",
       "\t<li>'88'</li>\n",
       "\t<li>'89'</li>\n",
       "\t<li>'90'</li>\n",
       "\t<li>'91'</li>\n",
       "\t<li>'92'</li>\n",
       "\t<li>'93'</li>\n",
       "\t<li>'94'</li>\n",
       "\t<li>'95'</li>\n",
       "\t<li>'96'</li>\n",
       "\t<li>'97'</li>\n",
       "\t<li>'98'</li>\n",
       "\t<li>'99'</li>\n",
       "\t<li>'100'</li>\n",
       "\t<li>'101'</li>\n",
       "\t<li>'102'</li>\n",
       "\t<li>'103'</li>\n",
       "\t<li>'104'</li>\n",
       "\t<li>'105'</li>\n",
       "\t<li>'106'</li>\n",
       "\t<li>'107'</li>\n",
       "\t<li>'108'</li>\n",
       "\t<li>'109'</li>\n",
       "\t<li>'110'</li>\n",
       "\t<li>'111'</li>\n",
       "\t<li>'112'</li>\n",
       "\t<li>'113'</li>\n",
       "\t<li>'114'</li>\n",
       "\t<li>'115'</li>\n",
       "\t<li>'116'</li>\n",
       "\t<li>'117'</li>\n",
       "</ol>\n",
       "</dd>\n",
       "\t<dt>$class</dt>\n",
       "\t\t<dd>'data.frame'</dd>\n",
       "</dl>\n"
      ],
      "text/latex": [
       "\\begin{description}\n",
       "\\item[\\$names] \\begin{enumerate*}\n",
       "\\item 'age'\n",
       "\\item 'DEXfat'\n",
       "\\item 'waistcirc'\n",
       "\\item 'hipcirc'\n",
       "\\item 'elbowbreadth'\n",
       "\\item 'kneebreadth'\n",
       "\\item 'anthro3a'\n",
       "\\item 'anthro3b'\n",
       "\\item 'anthro3c'\n",
       "\\item 'anthro4'\n",
       "\\end{enumerate*}\n",
       "\n",
       "\\item[\\$row.names] \\begin{enumerate*}\n",
       "\\item '47'\n",
       "\\item '48'\n",
       "\\item '49'\n",
       "\\item '50'\n",
       "\\item '51'\n",
       "\\item '52'\n",
       "\\item '53'\n",
       "\\item '54'\n",
       "\\item '55'\n",
       "\\item '56'\n",
       "\\item '57'\n",
       "\\item '58'\n",
       "\\item '59'\n",
       "\\item '60'\n",
       "\\item '61'\n",
       "\\item '62'\n",
       "\\item '63'\n",
       "\\item '64'\n",
       "\\item '65'\n",
       "\\item '66'\n",
       "\\item '67'\n",
       "\\item '68'\n",
       "\\item '69'\n",
       "\\item '70'\n",
       "\\item '71'\n",
       "\\item '72'\n",
       "\\item '73'\n",
       "\\item '74'\n",
       "\\item '75'\n",
       "\\item '76'\n",
       "\\item '77'\n",
       "\\item '78'\n",
       "\\item '79'\n",
       "\\item '80'\n",
       "\\item '81'\n",
       "\\item '82'\n",
       "\\item '83'\n",
       "\\item '84'\n",
       "\\item '85'\n",
       "\\item '86'\n",
       "\\item '87'\n",
       "\\item '88'\n",
       "\\item '89'\n",
       "\\item '90'\n",
       "\\item '91'\n",
       "\\item '92'\n",
       "\\item '93'\n",
       "\\item '94'\n",
       "\\item '95'\n",
       "\\item '96'\n",
       "\\item '97'\n",
       "\\item '98'\n",
       "\\item '99'\n",
       "\\item '100'\n",
       "\\item '101'\n",
       "\\item '102'\n",
       "\\item '103'\n",
       "\\item '104'\n",
       "\\item '105'\n",
       "\\item '106'\n",
       "\\item '107'\n",
       "\\item '108'\n",
       "\\item '109'\n",
       "\\item '110'\n",
       "\\item '111'\n",
       "\\item '112'\n",
       "\\item '113'\n",
       "\\item '114'\n",
       "\\item '115'\n",
       "\\item '116'\n",
       "\\item '117'\n",
       "\\end{enumerate*}\n",
       "\n",
       "\\item[\\$class] 'data.frame'\n",
       "\\end{description}\n"
      ],
      "text/markdown": [
       "$names\n",
       ":   1. 'age'\n",
       "2. 'DEXfat'\n",
       "3. 'waistcirc'\n",
       "4. 'hipcirc'\n",
       "5. 'elbowbreadth'\n",
       "6. 'kneebreadth'\n",
       "7. 'anthro3a'\n",
       "8. 'anthro3b'\n",
       "9. 'anthro3c'\n",
       "10. 'anthro4'\n",
       "\n",
       "\n",
       "\n",
       "$row.names\n",
       ":   1. '47'\n",
       "2. '48'\n",
       "3. '49'\n",
       "4. '50'\n",
       "5. '51'\n",
       "6. '52'\n",
       "7. '53'\n",
       "8. '54'\n",
       "9. '55'\n",
       "10. '56'\n",
       "11. '57'\n",
       "12. '58'\n",
       "13. '59'\n",
       "14. '60'\n",
       "15. '61'\n",
       "16. '62'\n",
       "17. '63'\n",
       "18. '64'\n",
       "19. '65'\n",
       "20. '66'\n",
       "21. '67'\n",
       "22. '68'\n",
       "23. '69'\n",
       "24. '70'\n",
       "25. '71'\n",
       "26. '72'\n",
       "27. '73'\n",
       "28. '74'\n",
       "29. '75'\n",
       "30. '76'\n",
       "31. '77'\n",
       "32. '78'\n",
       "33. '79'\n",
       "34. '80'\n",
       "35. '81'\n",
       "36. '82'\n",
       "37. '83'\n",
       "38. '84'\n",
       "39. '85'\n",
       "40. '86'\n",
       "41. '87'\n",
       "42. '88'\n",
       "43. '89'\n",
       "44. '90'\n",
       "45. '91'\n",
       "46. '92'\n",
       "47. '93'\n",
       "48. '94'\n",
       "49. '95'\n",
       "50. '96'\n",
       "51. '97'\n",
       "52. '98'\n",
       "53. '99'\n",
       "54. '100'\n",
       "55. '101'\n",
       "56. '102'\n",
       "57. '103'\n",
       "58. '104'\n",
       "59. '105'\n",
       "60. '106'\n",
       "61. '107'\n",
       "62. '108'\n",
       "63. '109'\n",
       "64. '110'\n",
       "65. '111'\n",
       "66. '112'\n",
       "67. '113'\n",
       "68. '114'\n",
       "69. '115'\n",
       "70. '116'\n",
       "71. '117'\n",
       "\n",
       "\n",
       "\n",
       "$class\n",
       ":   'data.frame'\n",
       "\n",
       "\n"
      ],
      "text/plain": [
       "$names\n",
       " [1] \"age\"          \"DEXfat\"       \"waistcirc\"    \"hipcirc\"      \"elbowbreadth\"\n",
       " [6] \"kneebreadth\"  \"anthro3a\"     \"anthro3b\"     \"anthro3c\"     \"anthro4\"     \n",
       "\n",
       "$row.names\n",
       " [1] \"47\"  \"48\"  \"49\"  \"50\"  \"51\"  \"52\"  \"53\"  \"54\"  \"55\"  \"56\"  \"57\"  \"58\" \n",
       "[13] \"59\"  \"60\"  \"61\"  \"62\"  \"63\"  \"64\"  \"65\"  \"66\"  \"67\"  \"68\"  \"69\"  \"70\" \n",
       "[25] \"71\"  \"72\"  \"73\"  \"74\"  \"75\"  \"76\"  \"77\"  \"78\"  \"79\"  \"80\"  \"81\"  \"82\" \n",
       "[37] \"83\"  \"84\"  \"85\"  \"86\"  \"87\"  \"88\"  \"89\"  \"90\"  \"91\"  \"92\"  \"93\"  \"94\" \n",
       "[49] \"95\"  \"96\"  \"97\"  \"98\"  \"99\"  \"100\" \"101\" \"102\" \"103\" \"104\" \"105\" \"106\"\n",
       "[61] \"107\" \"108\" \"109\" \"110\" \"111\" \"112\" \"113\" \"114\" \"115\" \"116\" \"117\"\n",
       "\n",
       "$class\n",
       "[1] \"data.frame\"\n"
      ]
     },
     "metadata": {},
     "output_type": "display_data"
    }
   ],
   "source": [
    "attributes(bodyfat)"
   ]
  },
  {
   "cell_type": "code",
   "execution_count": 60,
   "metadata": {},
   "outputs": [],
   "source": [
    "set.seed(1234)\n",
    "ind<-sample(2,nrow(bodyfat),replace=TRUE,prob=c(0.7,0.3))"
   ]
  },
  {
   "cell_type": "code",
   "execution_count": 64,
   "metadata": {},
   "outputs": [],
   "source": [
    "bodyfat.train<-bodyfat[ind==1,]\n",
    "bodyfat.test<-bodyfat[ind==2,]"
   ]
  },
  {
   "cell_type": "code",
   "execution_count": 71,
   "metadata": {},
   "outputs": [],
   "source": [
    "myformula <- DEXfat~age + waistcirc + hipcirc + elbowbreadth + kneebreadth"
   ]
  },
  {
   "cell_type": "code",
   "execution_count": 72,
   "metadata": {},
   "outputs": [],
   "source": [
    "bodyfat_rpart<-rpart(myformula,data=bodyfat.train,control=rpart.control(minsplit=10))"
   ]
  },
  {
   "cell_type": "code",
   "execution_count": 73,
   "metadata": {},
   "outputs": [
    {
     "data": {
      "text/html": [
       "<dl>\n",
       "\t<dt>$names</dt>\n",
       "\t\t<dd><ol class=list-inline>\n",
       "\t<li>'frame'</li>\n",
       "\t<li>'where'</li>\n",
       "\t<li>'call'</li>\n",
       "\t<li>'terms'</li>\n",
       "\t<li>'cptable'</li>\n",
       "\t<li>'method'</li>\n",
       "\t<li>'parms'</li>\n",
       "\t<li>'control'</li>\n",
       "\t<li>'functions'</li>\n",
       "\t<li>'numresp'</li>\n",
       "\t<li>'splits'</li>\n",
       "\t<li>'variable.importance'</li>\n",
       "\t<li>'y'</li>\n",
       "\t<li>'ordered'</li>\n",
       "</ol>\n",
       "</dd>\n",
       "\t<dt>$xlevels</dt>\n",
       "\t\t<dd><dl>\n",
       "</dl>\n",
       "</dd>\n",
       "\t<dt>$class</dt>\n",
       "\t\t<dd>'rpart'</dd>\n",
       "</dl>\n"
      ],
      "text/latex": [
       "\\begin{description}\n",
       "\\item[\\$names] \\begin{enumerate*}\n",
       "\\item 'frame'\n",
       "\\item 'where'\n",
       "\\item 'call'\n",
       "\\item 'terms'\n",
       "\\item 'cptable'\n",
       "\\item 'method'\n",
       "\\item 'parms'\n",
       "\\item 'control'\n",
       "\\item 'functions'\n",
       "\\item 'numresp'\n",
       "\\item 'splits'\n",
       "\\item 'variable.importance'\n",
       "\\item 'y'\n",
       "\\item 'ordered'\n",
       "\\end{enumerate*}\n",
       "\n",
       "\\item[\\$xlevels] \\begin{description}\n",
       "\\end{description}\n",
       "\n",
       "\\item[\\$class] 'rpart'\n",
       "\\end{description}\n"
      ],
      "text/markdown": [
       "$names\n",
       ":   1. 'frame'\n",
       "2. 'where'\n",
       "3. 'call'\n",
       "4. 'terms'\n",
       "5. 'cptable'\n",
       "6. 'method'\n",
       "7. 'parms'\n",
       "8. 'control'\n",
       "9. 'functions'\n",
       "10. 'numresp'\n",
       "11. 'splits'\n",
       "12. 'variable.importance'\n",
       "13. 'y'\n",
       "14. 'ordered'\n",
       "\n",
       "\n",
       "\n",
       "$xlevels\n",
       ":   \n",
       "\n",
       "\n",
       "$class\n",
       ":   'rpart'\n",
       "\n",
       "\n"
      ],
      "text/plain": [
       "$names\n",
       " [1] \"frame\"               \"where\"               \"call\"               \n",
       " [4] \"terms\"               \"cptable\"             \"method\"             \n",
       " [7] \"parms\"               \"control\"             \"functions\"          \n",
       "[10] \"numresp\"             \"splits\"              \"variable.importance\"\n",
       "[13] \"y\"                   \"ordered\"            \n",
       "\n",
       "$xlevels\n",
       "named list()\n",
       "\n",
       "$class\n",
       "[1] \"rpart\"\n"
      ]
     },
     "metadata": {},
     "output_type": "display_data"
    }
   ],
   "source": [
    "attributes(bodyfat_rpart)"
   ]
  },
  {
   "cell_type": "code",
   "execution_count": 77,
   "metadata": {},
   "outputs": [
    {
     "data": {
      "text/plain": [
       "n= 56 \n",
       "\n",
       "node), split, n, deviance, yval\n",
       "      * denotes terminal node\n",
       "\n",
       " 1) root 56 7265.0290000 30.94589  \n",
       "   2) waistcirc< 88.4 31  960.5381000 22.55645  \n",
       "     4) hipcirc< 96.25 14  222.2648000 18.41143  \n",
       "       8) age< 60.5 9   66.8809600 16.19222 *\n",
       "       9) age>=60.5 5   31.2769200 22.40600 *\n",
       "     5) hipcirc>=96.25 17  299.6470000 25.97000  \n",
       "      10) waistcirc< 77.75 6   30.7345500 22.32500 *\n",
       "      11) waistcirc>=77.75 11  145.7148000 27.95818  \n",
       "        22) hipcirc< 99.5 3    0.2568667 23.74667 *\n",
       "        23) hipcirc>=99.5 8   72.2933500 29.53750 *\n",
       "   3) waistcirc>=88.4 25 1417.1140000 41.34880  \n",
       "     6) waistcirc< 104.75 18  330.5792000 38.09111  \n",
       "      12) hipcirc< 109.9 9   68.9996200 34.37556 *\n",
       "      13) hipcirc>=109.9 9   13.0832000 41.80667 *\n",
       "     7) waistcirc>=104.75 7  404.3004000 49.72571 *"
      ]
     },
     "metadata": {},
     "output_type": "display_data"
    }
   ],
   "source": [
    "#bodyfat_rpart$cptable\n",
    "bodyfat_rpart"
   ]
  },
  {
   "cell_type": "code",
   "execution_count": 78,
   "metadata": {},
   "outputs": [
    {
     "data": {
      "text/html": [
       "<table>\n",
       "<thead><tr><th></th><th scope=col>CP</th><th scope=col>nsplit</th><th scope=col>rel error</th><th scope=col>xerror</th><th scope=col>xstd</th></tr></thead>\n",
       "<tbody>\n",
       "\t<tr><th scope=row>1</th><td>0.67272638</td><td>0         </td><td>1.00000000</td><td>1.0194546 </td><td>0.18724382</td></tr>\n",
       "\t<tr><th scope=row>2</th><td>0.09390665</td><td>1         </td><td>0.32727362</td><td>0.4415438 </td><td>0.10853044</td></tr>\n",
       "\t<tr><th scope=row>3</th><td>0.06037503</td><td>2         </td><td>0.23336696</td><td>0.4271241 </td><td>0.09362895</td></tr>\n",
       "\t<tr><th scope=row>4</th><td>0.03420446</td><td>3         </td><td>0.17299193</td><td>0.3842206 </td><td>0.09030539</td></tr>\n",
       "\t<tr><th scope=row>5</th><td>0.01708278</td><td>4         </td><td>0.13878747</td><td>0.3038187 </td><td>0.07295556</td></tr>\n",
       "\t<tr><th scope=row>6</th><td>0.01695763</td><td>5         </td><td>0.12170469</td><td>0.2739808 </td><td>0.06599642</td></tr>\n",
       "\t<tr><th scope=row>7</th><td>0.01007079</td><td>6         </td><td>0.10474706</td><td>0.2693702 </td><td>0.06613618</td></tr>\n",
       "\t<tr><th scope=row>8</th><td>0.01000000</td><td>7         </td><td>0.09467627</td><td>0.2695358 </td><td>0.06620732</td></tr>\n",
       "</tbody>\n",
       "</table>\n"
      ],
      "text/latex": [
       "\\begin{tabular}{r|lllll}\n",
       "  & CP & nsplit & rel error & xerror & xstd\\\\\n",
       "\\hline\n",
       "\t1 & 0.67272638 & 0          & 1.00000000 & 1.0194546  & 0.18724382\\\\\n",
       "\t2 & 0.09390665 & 1          & 0.32727362 & 0.4415438  & 0.10853044\\\\\n",
       "\t3 & 0.06037503 & 2          & 0.23336696 & 0.4271241  & 0.09362895\\\\\n",
       "\t4 & 0.03420446 & 3          & 0.17299193 & 0.3842206  & 0.09030539\\\\\n",
       "\t5 & 0.01708278 & 4          & 0.13878747 & 0.3038187  & 0.07295556\\\\\n",
       "\t6 & 0.01695763 & 5          & 0.12170469 & 0.2739808  & 0.06599642\\\\\n",
       "\t7 & 0.01007079 & 6          & 0.10474706 & 0.2693702  & 0.06613618\\\\\n",
       "\t8 & 0.01000000 & 7          & 0.09467627 & 0.2695358  & 0.06620732\\\\\n",
       "\\end{tabular}\n"
      ],
      "text/markdown": [
       "\n",
       "| <!--/--> | CP | nsplit | rel error | xerror | xstd | \n",
       "|---|---|---|---|---|---|---|---|\n",
       "| 1 | 0.67272638 | 0          | 1.00000000 | 1.0194546  | 0.18724382 | \n",
       "| 2 | 0.09390665 | 1          | 0.32727362 | 0.4415438  | 0.10853044 | \n",
       "| 3 | 0.06037503 | 2          | 0.23336696 | 0.4271241  | 0.09362895 | \n",
       "| 4 | 0.03420446 | 3          | 0.17299193 | 0.3842206  | 0.09030539 | \n",
       "| 5 | 0.01708278 | 4          | 0.13878747 | 0.3038187  | 0.07295556 | \n",
       "| 6 | 0.01695763 | 5          | 0.12170469 | 0.2739808  | 0.06599642 | \n",
       "| 7 | 0.01007079 | 6          | 0.10474706 | 0.2693702  | 0.06613618 | \n",
       "| 8 | 0.01000000 | 7          | 0.09467627 | 0.2695358  | 0.06620732 | \n",
       "\n",
       "\n"
      ],
      "text/plain": [
       "  CP         nsplit rel error  xerror    xstd      \n",
       "1 0.67272638 0      1.00000000 1.0194546 0.18724382\n",
       "2 0.09390665 1      0.32727362 0.4415438 0.10853044\n",
       "3 0.06037503 2      0.23336696 0.4271241 0.09362895\n",
       "4 0.03420446 3      0.17299193 0.3842206 0.09030539\n",
       "5 0.01708278 4      0.13878747 0.3038187 0.07295556\n",
       "6 0.01695763 5      0.12170469 0.2739808 0.06599642\n",
       "7 0.01007079 6      0.10474706 0.2693702 0.06613618\n",
       "8 0.01000000 7      0.09467627 0.2695358 0.06620732"
      ]
     },
     "metadata": {},
     "output_type": "display_data"
    }
   ],
   "source": [
    "bodyfat_rpart$cptable"
   ]
  },
  {
   "cell_type": "code",
   "execution_count": 85,
   "metadata": {},
   "outputs": [
    {
     "data": {
      "image/png": "[encoded data removed]",
      "text/plain": [
       "plot without title"
      ]
     },
     "metadata": {},
     "output_type": "display_data"
    }
   ],
   "source": [
    "plot(bodyfat_rpart)\n",
    "text(bodyfat_rpart,use.n=T,cex=0.5)"
   ]
  },
  {
   "cell_type": "code",
   "execution_count": 87,
   "metadata": {},
   "outputs": [],
   "source": [
    "opt <- which.min(bodyfat_rpart$cptable[,\"xerror\"])"
   ]
  },
  {
   "cell_type": "code",
   "execution_count": 88,
   "metadata": {},
   "outputs": [],
   "source": [
    "cp <- bodyfat_rpart$cptable[opt,\"CP\"]"
   ]
  },
  {
   "cell_type": "code",
   "execution_count": 89,
   "metadata": {},
   "outputs": [],
   "source": [
    "bodyfat_prune <- prune(bodyfat_rpart,cp)"
   ]
  },
  {
   "cell_type": "code",
   "execution_count": 90,
   "metadata": {},
   "outputs": [
    {
     "data": {
      "text/plain": [
       "n= 56 \n",
       "\n",
       "node), split, n, deviance, yval\n",
       "      * denotes terminal node\n",
       "\n",
       " 1) root 56 7265.02900 30.94589  \n",
       "   2) waistcirc< 88.4 31  960.53810 22.55645  \n",
       "     4) hipcirc< 96.25 14  222.26480 18.41143  \n",
       "       8) age< 60.5 9   66.88096 16.19222 *\n",
       "       9) age>=60.5 5   31.27692 22.40600 *\n",
       "     5) hipcirc>=96.25 17  299.64700 25.97000  \n",
       "      10) waistcirc< 77.75 6   30.73455 22.32500 *\n",
       "      11) waistcirc>=77.75 11  145.71480 27.95818 *\n",
       "   3) waistcirc>=88.4 25 1417.11400 41.34880  \n",
       "     6) waistcirc< 104.75 18  330.57920 38.09111  \n",
       "      12) hipcirc< 109.9 9   68.99962 34.37556 *\n",
       "      13) hipcirc>=109.9 9   13.08320 41.80667 *\n",
       "     7) waistcirc>=104.75 7  404.30040 49.72571 *"
      ]
     },
     "metadata": {},
     "output_type": "display_data"
    }
   ],
   "source": [
    "bodyfat_prune"
   ]
  },
  {
   "cell_type": "code",
   "execution_count": 93,
   "metadata": {},
   "outputs": [
    {
     "data": {
      "image/png": "[encoded data removed]",
      "text/plain": [
       "plot without title"
      ]
     },
     "metadata": {},
     "output_type": "display_data"
    }
   ],
   "source": [
    "plot(bodyfat_prune)\n",
    "text(bodyfat_prune,use.n=T,cex=0.6)"
   ]
  },
  {
   "cell_type": "code",
   "execution_count": 95,
   "metadata": {},
   "outputs": [
    {
     "data": {
      "text/html": [
       "<table>\n",
       "<thead><tr><th></th><th scope=col>age</th><th scope=col>DEXfat</th><th scope=col>waistcirc</th><th scope=col>hipcirc</th><th scope=col>elbowbreadth</th><th scope=col>kneebreadth</th><th scope=col>anthro3a</th><th scope=col>anthro3b</th><th scope=col>anthro3c</th><th scope=col>anthro4</th></tr></thead>\n",
       "<tbody>\n",
       "\t<tr><th scope=row>47</th><td>57   </td><td>41.68</td><td>100.0</td><td>112.0</td><td>7.1  </td><td> 9.4 </td><td>4.42 </td><td>4.95 </td><td>4.50 </td><td>6.13 </td></tr>\n",
       "\t<tr><th scope=row>48</th><td>65   </td><td>43.29</td><td> 99.5</td><td>116.5</td><td>6.5  </td><td> 8.9 </td><td>4.63 </td><td>5.01 </td><td>4.48 </td><td>6.37 </td></tr>\n",
       "\t<tr><th scope=row>49</th><td>59   </td><td>35.41</td><td> 96.0</td><td>108.5</td><td>6.2  </td><td> 8.9 </td><td>4.12 </td><td>4.74 </td><td>4.60 </td><td>5.82 </td></tr>\n",
       "\t<tr><th scope=row>50</th><td>58   </td><td>22.79</td><td> 72.0</td><td> 96.5</td><td>6.1  </td><td> 9.2 </td><td>4.03 </td><td>4.48 </td><td>3.91 </td><td>5.66 </td></tr>\n",
       "\t<tr><th scope=row>51</th><td>60   </td><td>36.42</td><td> 89.5</td><td>100.5</td><td>7.1  </td><td>10.0 </td><td>4.24 </td><td>4.68 </td><td>4.15 </td><td>5.91 </td></tr>\n",
       "\t<tr><th scope=row>52</th><td>61   </td><td>24.13</td><td> 83.5</td><td> 97.0</td><td>6.5  </td><td> 8.8 </td><td>3.55 </td><td>4.06 </td><td>3.64 </td><td>5.14 </td></tr>\n",
       "</tbody>\n",
       "</table>\n"
      ],
      "text/latex": [
       "\\begin{tabular}{r|llllllllll}\n",
       "  & age & DEXfat & waistcirc & hipcirc & elbowbreadth & kneebreadth & anthro3a & anthro3b & anthro3c & anthro4\\\\\n",
       "\\hline\n",
       "\t47 & 57    & 41.68 & 100.0 & 112.0 & 7.1   &  9.4  & 4.42  & 4.95  & 4.50  & 6.13 \\\\\n",
       "\t48 & 65    & 43.29 &  99.5 & 116.5 & 6.5   &  8.9  & 4.63  & 5.01  & 4.48  & 6.37 \\\\\n",
       "\t49 & 59    & 35.41 &  96.0 & 108.5 & 6.2   &  8.9  & 4.12  & 4.74  & 4.60  & 5.82 \\\\\n",
       "\t50 & 58    & 22.79 &  72.0 &  96.5 & 6.1   &  9.2  & 4.03  & 4.48  & 3.91  & 5.66 \\\\\n",
       "\t51 & 60    & 36.42 &  89.5 & 100.5 & 7.1   & 10.0  & 4.24  & 4.68  & 4.15  & 5.91 \\\\\n",
       "\t52 & 61    & 24.13 &  83.5 &  97.0 & 6.5   &  8.8  & 3.55  & 4.06  & 3.64  & 5.14 \\\\\n",
       "\\end{tabular}\n"
      ],
      "text/markdown": [
       "\n",
       "| <!--/--> | age | DEXfat | waistcirc | hipcirc | elbowbreadth | kneebreadth | anthro3a | anthro3b | anthro3c | anthro4 | \n",
       "|---|---|---|---|---|---|\n",
       "| 47 | 57    | 41.68 | 100.0 | 112.0 | 7.1   |  9.4  | 4.42  | 4.95  | 4.50  | 6.13  | \n",
       "| 48 | 65    | 43.29 |  99.5 | 116.5 | 6.5   |  8.9  | 4.63  | 5.01  | 4.48  | 6.37  | \n",
       "| 49 | 59    | 35.41 |  96.0 | 108.5 | 6.2   |  8.9  | 4.12  | 4.74  | 4.60  | 5.82  | \n",
       "| 50 | 58    | 22.79 |  72.0 |  96.5 | 6.1   |  9.2  | 4.03  | 4.48  | 3.91  | 5.66  | \n",
       "| 51 | 60    | 36.42 |  89.5 | 100.5 | 7.1   | 10.0  | 4.24  | 4.68  | 4.15  | 5.91  | \n",
       "| 52 | 61    | 24.13 |  83.5 |  97.0 | 6.5   |  8.8  | 3.55  | 4.06  | 3.64  | 5.14  | \n",
       "\n",
       "\n"
      ],
      "text/plain": [
       "   age DEXfat waistcirc hipcirc elbowbreadth kneebreadth anthro3a anthro3b\n",
       "47 57  41.68  100.0     112.0   7.1           9.4        4.42     4.95    \n",
       "48 65  43.29   99.5     116.5   6.5           8.9        4.63     5.01    \n",
       "49 59  35.41   96.0     108.5   6.2           8.9        4.12     4.74    \n",
       "50 58  22.79   72.0      96.5   6.1           9.2        4.03     4.48    \n",
       "51 60  36.42   89.5     100.5   7.1          10.0        4.24     4.68    \n",
       "52 61  24.13   83.5      97.0   6.5           8.8        3.55     4.06    \n",
       "   anthro3c anthro4\n",
       "47 4.50     6.13   \n",
       "48 4.48     6.37   \n",
       "49 4.60     5.82   \n",
       "50 3.91     5.66   \n",
       "51 4.15     5.91   \n",
       "52 3.64     5.14   "
      ]
     },
     "metadata": {},
     "output_type": "display_data"
    }
   ],
   "source": [
    "head(bodyfat)"
   ]
  },
  {
   "cell_type": "code",
   "execution_count": 96,
   "metadata": {},
   "outputs": [],
   "source": [
    "bodyfat_pred<-predict(bodyfat_prune,newdata=bodyfat.test)"
   ]
  },
  {
   "cell_type": "code",
   "execution_count": 97,
   "metadata": {},
   "outputs": [],
   "source": [
    "xlim<-range(bodyfat$DEXfat)"
   ]
  },
  {
   "cell_type": "code",
   "execution_count": 100,
   "metadata": {},
   "outputs": [
    {
     "data": {
      "image/png": "[encoded data removed]",
      "text/plain": [
       "plot without title"
      ]
     },
     "metadata": {},
     "output_type": "display_data"
    }
   ],
   "source": [
    "plot(bodyfat_pred~DEXfat,data=bodyfat.test,xlab=\"observed\",ylab=\"predicted\",ylim=xlim,xlim=xlim)\n",
    "abline(a=0,b=1)"
   ]
  },
  {
   "cell_type": "code",
   "execution_count": 107,
   "metadata": {},
   "outputs": [],
   "source": [
    "#random forest\n",
    "library(randomForest)"
   ]
  },
  {
   "cell_type": "code",
   "execution_count": 108,
   "metadata": {},
   "outputs": [],
   "source": [
    "set.seed(1234)\n",
    "ind<- sample(2,nrow(iris),replace=T,prob=c(0.7,0.3))\n",
    "iris.test<-iris[ind==2,]\n",
    "iris.train<-iris[ind==1,]\n"
   ]
  },
  {
   "cell_type": "code",
   "execution_count": 109,
   "metadata": {},
   "outputs": [],
   "source": [
    "rf <- randomForest(Species~., data=iris.train,ntree=100,proximity=T)"
   ]
  },
  {
   "cell_type": "code",
   "execution_count": 110,
   "metadata": {},
   "outputs": [
    {
     "data": {
      "text/plain": [
       "            \n",
       "             setosa versicolor virginica\n",
       "  setosa         40          0         0\n",
       "  versicolor      0         35         2\n",
       "  virginica       0          3        32"
      ]
     },
     "metadata": {},
     "output_type": "display_data"
    }
   ],
   "source": [
    "table(predict(rf),iris.train$Species)"
   ]
  },
  {
   "cell_type": "code",
   "execution_count": 111,
   "metadata": {},
   "outputs": [
    {
     "data": {
      "text/plain": [
       "\n",
       "Call:\n",
       " randomForest(formula = Species ~ ., data = iris.train, ntree = 100,      proximity = T) \n",
       "               Type of random forest: classification\n",
       "                     Number of trees: 100\n",
       "No. of variables tried at each split: 2\n",
       "\n",
       "        OOB estimate of  error rate: 4.46%\n",
       "Confusion matrix:\n",
       "           setosa versicolor virginica class.error\n",
       "setosa         40          0         0  0.00000000\n",
       "versicolor      0         35         3  0.07894737\n",
       "virginica       0          2        32  0.05882353"
      ]
     },
     "metadata": {},
     "output_type": "display_data"
    }
   ],
   "source": [
    "rf"
   ]
  },
  {
   "cell_type": "code",
   "execution_count": 112,
   "metadata": {},
   "outputs": [
    {
     "data": {
      "image/png": "[encoded data removed]",
      "text/plain": [
       "Plot with title \"rf\""
      ]
     },
     "metadata": {},
     "output_type": "display_data"
    }
   ],
   "source": [
    "plot(rf)"
   ]
  },
  {
   "cell_type": "code",
   "execution_count": 115,
   "metadata": {},
   "outputs": [
    {
     "data": {
      "text/html": [
       "<table>\n",
       "<thead><tr><th></th><th scope=col>MeanDecreaseGini</th></tr></thead>\n",
       "<tbody>\n",
       "\t<tr><th scope=row>Sepal.Length</th><td> 8.129141</td></tr>\n",
       "\t<tr><th scope=row>Sepal.Width</th><td> 1.307585</td></tr>\n",
       "\t<tr><th scope=row>Petal.Length</th><td>31.320585</td></tr>\n",
       "\t<tr><th scope=row>Petal.Width</th><td>33.059201</td></tr>\n",
       "</tbody>\n",
       "</table>\n"
      ],
      "text/latex": [
       "\\begin{tabular}{r|l}\n",
       "  & MeanDecreaseGini\\\\\n",
       "\\hline\n",
       "\tSepal.Length &  8.129141\\\\\n",
       "\tSepal.Width &  1.307585\\\\\n",
       "\tPetal.Length & 31.320585\\\\\n",
       "\tPetal.Width & 33.059201\\\\\n",
       "\\end{tabular}\n"
      ],
      "text/markdown": [
       "\n",
       "| <!--/--> | MeanDecreaseGini | \n",
       "|---|---|---|---|\n",
       "| Sepal.Length |  8.129141 | \n",
       "| Sepal.Width |  1.307585 | \n",
       "| Petal.Length | 31.320585 | \n",
       "| Petal.Width | 33.059201 | \n",
       "\n",
       "\n"
      ],
      "text/plain": [
       "             MeanDecreaseGini\n",
       "Sepal.Length  8.129141       \n",
       "Sepal.Width   1.307585       \n",
       "Petal.Length 31.320585       \n",
       "Petal.Width  33.059201       "
      ]
     },
     "metadata": {},
     "output_type": "display_data"
    },
    {
     "data": {
      "image/png": "[encoded data removed]",
      "text/plain": [
       "Plot with title \"rf\""
      ]
     },
     "metadata": {},
     "output_type": "display_data"
    }
   ],
   "source": [
    "importance(rf)\n",
    "varImpPlot(rf)"
   ]
  },
  {
   "cell_type": "code",
   "execution_count": 116,
   "metadata": {},
   "outputs": [],
   "source": [
    "iris.pred<-predict(rf,newdata=iris.test)"
   ]
  },
  {
   "cell_type": "code",
   "execution_count": 117,
   "metadata": {},
   "outputs": [
    {
     "data": {
      "text/plain": [
       "            \n",
       "iris.pred    setosa versicolor virginica\n",
       "  setosa         10          0         0\n",
       "  versicolor      0         12         2\n",
       "  virginica       0          0        14"
      ]
     },
     "metadata": {},
     "output_type": "display_data"
    }
   ],
   "source": [
    "table(iris.pred,iris.test$Species)"
   ]
  },
  {
   "cell_type": "code",
   "execution_count": 118,
   "metadata": {},
   "outputs": [
    {
     "data": {
      "image/png": "[encoded data removed]",
      "text/plain": [
       "plot without title"
      ]
     },
     "metadata": {},
     "output_type": "display_data"
    }
   ],
   "source": [
    "plot(margin(rf,iris.test$Species))"
   ]
  },
  {
   "cell_type": "code",
   "execution_count": null,
   "metadata": {},
   "outputs": [],
   "source": [
    "#MART aka Gradient Boosting "
   ]
  }
 ],
 "metadata": {
  "kernelspec": {
   "display_name": "R",
   "language": "R",
   "name": "ir"
  },
  "language_info": {
   "codemirror_mode": "r",
   "file_extension": ".r",
   "mimetype": "text/x-r-source",
   "name": "R",
   "pygments_lexer": "r",
   "version": "3.5.1"
  }
 },
 "nbformat": 4,
 "nbformat_minor": 2
}
