{
 "cells": [
  {
   "cell_type": "code",
   "execution_count": null,
   "metadata": {},
   "outputs": [],
   "source": [
    "library(arules)"
   ]
  },
  {
   "cell_type": "code",
   "execution_count": 5,
   "metadata": {},
   "outputs": [
    {
     "name": "stdout",
     "output_type": "stream",
     "text": [
      " 'table' num [1:4, 1:2, 1:2, 1:2] 0 0 35 0 0 0 17 0 118 154 ...\n",
      " - attr(*, \"dimnames\")=List of 4\n",
      "  ..$ Class   : chr [1:4] \"1st\" \"2nd\" \"3rd\" \"Crew\"\n",
      "  ..$ Sex     : chr [1:2] \"Male\" \"Female\"\n",
      "  ..$ Age     : chr [1:2] \"Child\" \"Adult\"\n",
      "  ..$ Survived: chr [1:2] \"No\" \"Yes\"\n"
     ]
    }
   ],
   "source": [
    "str(Titanic)"
   ]
  },
  {
   "cell_type": "code",
   "execution_count": 9,
   "metadata": {},
   "outputs": [],
   "source": [
    "df<-as.data.frame(Titanic)\n",
    "titanic.raw<-NULL"
   ]
  },
  {
   "cell_type": "code",
   "execution_count": 11,
   "metadata": {},
   "outputs": [],
   "source": [
    "for (i in (1:4)) {\n",
    "    titanic.raw<-cbind(titanic.raw,rep(as.character(df[,i]),df$Freq))\n",
    "}"
   ]
  },
  {
   "cell_type": "code",
   "execution_count": 28,
   "metadata": {},
   "outputs": [],
   "source": [
    "titanic.raw<-data.frame(titanic.raw)"
   ]
  },
  {
   "cell_type": "code",
   "execution_count": 35,
   "metadata": {},
   "outputs": [
    {
     "name": "stdout",
     "output_type": "stream",
     "text": [
      "'data.frame':\t2201 obs. of  4 variables:\n",
      " $ Class   : Factor w/ 4 levels \"1st\",\"2nd\",\"3rd\",..: 3 3 3 3 3 3 3 3 3 3 ...\n",
      " $ Sex     : Factor w/ 2 levels \"Female\",\"Male\": 2 2 2 2 2 2 2 2 2 2 ...\n",
      " $ Age     : Factor w/ 2 levels \"Adult\",\"Child\": 2 2 2 2 2 2 2 2 2 2 ...\n",
      " $ Survived: Factor w/ 2 levels \"No\",\"Yes\": 1 1 1 1 1 1 1 1 1 1 ...\n"
     ]
    }
   ],
   "source": [
    "names(titanic.raw)<-c(\"Class\",\"Sex\",\"Age\",\"Survived\")\n",
    "str(titanic.raw)"
   ]
  },
  {
   "cell_type": "code",
   "execution_count": 36,
   "metadata": {},
   "outputs": [
    {
     "name": "stdout",
     "output_type": "stream",
     "text": [
      "Apriori\n",
      "\n",
      "Parameter specification:\n",
      " confidence minval smax arem  aval originalSupport maxtime support minlen\n",
      "        0.8    0.1    1 none FALSE            TRUE       5     0.1      1\n",
      " maxlen target   ext\n",
      "     10  rules FALSE\n",
      "\n",
      "Algorithmic control:\n",
      " filter tree heap memopt load sort verbose\n",
      "    0.1 TRUE TRUE  FALSE TRUE    2    TRUE\n",
      "\n",
      "Absolute minimum support count: 220 \n",
      "\n",
      "set item appearances ...[0 item(s)] done [0.00s].\n",
      "set transactions ...[10 item(s), 2201 transaction(s)] done [0.00s].\n",
      "sorting and recoding items ... [9 item(s)] done [0.00s].\n",
      "creating transaction tree ... done [0.00s].\n",
      "checking subsets of size 1 2 3 4 done [0.00s].\n",
      "writing ... [27 rule(s)] done [0.00s].\n",
      "creating S4 object  ... done [0.00s].\n"
     ]
    }
   ],
   "source": [
    "rules.all<- apriori(titanic.raw)"
   ]
  },
  {
   "cell_type": "code",
   "execution_count": 37,
   "metadata": {},
   "outputs": [
    {
     "name": "stdout",
     "output_type": "stream",
     "text": [
      "     lhs                                   rhs           support   confidence\n",
      "[1]  {}                                 => {Age=Adult}   0.9504771 0.9504771 \n",
      "[2]  {Class=2nd}                        => {Age=Adult}   0.1185825 0.9157895 \n",
      "[3]  {Class=1st}                        => {Age=Adult}   0.1449341 0.9815385 \n",
      "[4]  {Sex=Female}                       => {Age=Adult}   0.1930940 0.9042553 \n",
      "[5]  {Class=3rd}                        => {Age=Adult}   0.2848705 0.8881020 \n",
      "[6]  {Survived=Yes}                     => {Age=Adult}   0.2971377 0.9198312 \n",
      "[7]  {Class=Crew}                       => {Sex=Male}    0.3916402 0.9740113 \n",
      "[8]  {Class=Crew}                       => {Age=Adult}   0.4020900 1.0000000 \n",
      "[9]  {Survived=No}                      => {Sex=Male}    0.6197183 0.9154362 \n",
      "[10] {Survived=No}                      => {Age=Adult}   0.6533394 0.9651007 \n",
      "[11] {Sex=Male}                         => {Age=Adult}   0.7573830 0.9630272 \n",
      "[12] {Sex=Female,Survived=Yes}          => {Age=Adult}   0.1435711 0.9186047 \n",
      "[13] {Class=3rd,Sex=Male}               => {Survived=No} 0.1917310 0.8274510 \n",
      "[14] {Class=3rd,Survived=No}            => {Age=Adult}   0.2162653 0.9015152 \n",
      "[15] {Class=3rd,Sex=Male}               => {Age=Adult}   0.2099046 0.9058824 \n",
      "[16] {Sex=Male,Survived=Yes}            => {Age=Adult}   0.1535666 0.9209809 \n",
      "[17] {Class=Crew,Survived=No}           => {Sex=Male}    0.3044071 0.9955423 \n",
      "[18] {Class=Crew,Survived=No}           => {Age=Adult}   0.3057701 1.0000000 \n",
      "[19] {Class=Crew,Sex=Male}              => {Age=Adult}   0.3916402 1.0000000 \n",
      "[20] {Class=Crew,Age=Adult}             => {Sex=Male}    0.3916402 0.9740113 \n",
      "[21] {Sex=Male,Survived=No}             => {Age=Adult}   0.6038164 0.9743402 \n",
      "[22] {Age=Adult,Survived=No}            => {Sex=Male}    0.6038164 0.9242003 \n",
      "[23] {Class=3rd,Sex=Male,Survived=No}   => {Age=Adult}   0.1758292 0.9170616 \n",
      "[24] {Class=3rd,Age=Adult,Survived=No}  => {Sex=Male}    0.1758292 0.8130252 \n",
      "[25] {Class=3rd,Sex=Male,Age=Adult}     => {Survived=No} 0.1758292 0.8376623 \n",
      "[26] {Class=Crew,Sex=Male,Survived=No}  => {Age=Adult}   0.3044071 1.0000000 \n",
      "[27] {Class=Crew,Age=Adult,Survived=No} => {Sex=Male}    0.3044071 0.9955423 \n",
      "     lift      count\n",
      "[1]  1.0000000 2092 \n",
      "[2]  0.9635051  261 \n",
      "[3]  1.0326798  319 \n",
      "[4]  0.9513700  425 \n",
      "[5]  0.9343750  627 \n",
      "[6]  0.9677574  654 \n",
      "[7]  1.2384742  862 \n",
      "[8]  1.0521033  885 \n",
      "[9]  1.1639949 1364 \n",
      "[10] 1.0153856 1438 \n",
      "[11] 1.0132040 1667 \n",
      "[12] 0.9664669  316 \n",
      "[13] 1.2222950  422 \n",
      "[14] 0.9484870  476 \n",
      "[15] 0.9530818  462 \n",
      "[16] 0.9689670  338 \n",
      "[17] 1.2658514  670 \n",
      "[18] 1.0521033  673 \n",
      "[19] 1.0521033  862 \n",
      "[20] 1.2384742  862 \n",
      "[21] 1.0251065 1329 \n",
      "[22] 1.1751385 1329 \n",
      "[23] 0.9648435  387 \n",
      "[24] 1.0337773  387 \n",
      "[25] 1.2373791  387 \n",
      "[26] 1.0521033  670 \n",
      "[27] 1.2658514  670 \n"
     ]
    }
   ],
   "source": [
    "inspect(rules.all)"
   ]
  },
  {
   "cell_type": "code",
   "execution_count": 38,
   "metadata": {},
   "outputs": [],
   "source": [
    "rules<-apriori(titanic.raw,control=list(verbose=F),parameter=list(minlen=2,supp=0.005,conf=0.8),\n",
    "                     appearance=list(rhs=c(\"Survived=Yes\",\"Survived=No\"),default=\"lhs\"))"
   ]
  },
  {
   "cell_type": "code",
   "execution_count": 42,
   "metadata": {},
   "outputs": [],
   "source": [
    "quality(rules)<-round(quality(rules),digits=3)\n",
    "rules.sort<-sort(rules,by=\"lift\")"
   ]
  },
  {
   "cell_type": "code",
   "execution_count": 55,
   "metadata": {},
   "outputs": [
    {
     "name": "stdout",
     "output_type": "stream",
     "text": [
      "     lhs                                  rhs            support confidence\n",
      "[1]  {Class=2nd,Age=Child}             => {Survived=Yes} 0.011   1.000     \n",
      "[2]  {Class=2nd,Sex=Female,Age=Child}  => {Survived=Yes} 0.006   1.000     \n",
      "[3]  {Class=1st,Sex=Female}            => {Survived=Yes} 0.064   0.972     \n",
      "[4]  {Class=1st,Sex=Female,Age=Adult}  => {Survived=Yes} 0.064   0.972     \n",
      "[5]  {Class=2nd,Sex=Female}            => {Survived=Yes} 0.042   0.877     \n",
      "[6]  {Class=Crew,Sex=Female}           => {Survived=Yes} 0.009   0.870     \n",
      "[7]  {Class=Crew,Sex=Female,Age=Adult} => {Survived=Yes} 0.009   0.870     \n",
      "[8]  {Class=2nd,Sex=Female,Age=Adult}  => {Survived=Yes} 0.036   0.860     \n",
      "[9]  {Class=2nd,Sex=Male,Age=Adult}    => {Survived=No}  0.070   0.917     \n",
      "[10] {Class=2nd,Sex=Male}              => {Survived=No}  0.070   0.860     \n",
      "[11] {Class=3rd,Sex=Male,Age=Adult}    => {Survived=No}  0.176   0.838     \n",
      "[12] {Class=3rd,Sex=Male}              => {Survived=No}  0.192   0.827     \n",
      "     lift  count\n",
      "[1]  3.096  24  \n",
      "[2]  3.096  13  \n",
      "[3]  3.010 141  \n",
      "[4]  3.010 140  \n",
      "[5]  2.716  93  \n",
      "[6]  2.692  20  \n",
      "[7]  2.692  20  \n",
      "[8]  2.663  80  \n",
      "[9]  1.354 154  \n",
      "[10] 1.271 154  \n",
      "[11] 1.237 387  \n",
      "[12] 1.222 422  \n"
     ]
    }
   ],
   "source": [
    "inspect(rules.sort)"
   ]
  },
  {
   "cell_type": "code",
   "execution_count": 61,
   "metadata": {},
   "outputs": [
    {
     "data": {
      "text/html": [
       "<dl class=dl-horizontal>\n",
       "\t<dt>{Class=2nd,Sex=Female,Age=Child,Survived=Yes}</dt>\n",
       "\t\t<dd>2</dd>\n",
       "\t<dt>{Class=1st,Sex=Female,Age=Adult,Survived=Yes}</dt>\n",
       "\t\t<dd>4</dd>\n",
       "\t<dt>{Class=Crew,Sex=Female,Age=Adult,Survived=Yes}</dt>\n",
       "\t\t<dd>7</dd>\n",
       "\t<dt>{Class=2nd,Sex=Female,Age=Adult,Survived=Yes}</dt>\n",
       "\t\t<dd>8</dd>\n",
       "</dl>\n"
      ],
      "text/latex": [
       "\\begin{description*}\n",
       "\\item[\\textbackslash{}\\{Class=2nd,Sex=Female,Age=Child,Survived=Yes\\textbackslash{}\\}] 2\n",
       "\\item[\\textbackslash{}\\{Class=1st,Sex=Female,Age=Adult,Survived=Yes\\textbackslash{}\\}] 4\n",
       "\\item[\\textbackslash{}\\{Class=Crew,Sex=Female,Age=Adult,Survived=Yes\\textbackslash{}\\}] 7\n",
       "\\item[\\textbackslash{}\\{Class=2nd,Sex=Female,Age=Adult,Survived=Yes\\textbackslash{}\\}] 8\n",
       "\\end{description*}\n"
      ],
      "text/markdown": [
       "{Class=2nd,Sex=Female,Age=Child,Survived=Yes}\n",
       ":   2{Class=1st,Sex=Female,Age=Adult,Survived=Yes}\n",
       ":   4{Class=Crew,Sex=Female,Age=Adult,Survived=Yes}\n",
       ":   7{Class=2nd,Sex=Female,Age=Adult,Survived=Yes}\n",
       ":   8\n",
       "\n"
      ],
      "text/plain": [
       " {Class=2nd,Sex=Female,Age=Child,Survived=Yes} \n",
       "                                             2 \n",
       " {Class=1st,Sex=Female,Age=Adult,Survived=Yes} \n",
       "                                             4 \n",
       "{Class=Crew,Sex=Female,Age=Adult,Survived=Yes} \n",
       "                                             7 \n",
       " {Class=2nd,Sex=Female,Age=Adult,Survived=Yes} \n",
       "                                             8 "
      ]
     },
     "metadata": {},
     "output_type": "display_data"
    }
   ],
   "source": [
    "subset.matrix<-is.subset(rules.sort,rules.sort)\n",
    "subset.matrix[lower.tri(subset.matrix,diag=T)]<- FALSE\n",
    "redundant<-colSums(subset.matrix,na.rm=T) >= 1\n",
    "which(redundant)\n",
    "rules.prune<-rules.sort[!redundant]"
   ]
  },
  {
   "cell_type": "code",
   "execution_count": 62,
   "metadata": {},
   "outputs": [
    {
     "name": "stdout",
     "output_type": "stream",
     "text": [
      "    lhs                               rhs            support confidence lift \n",
      "[1] {Class=2nd,Age=Child}          => {Survived=Yes} 0.011   1.000      3.096\n",
      "[2] {Class=1st,Sex=Female}         => {Survived=Yes} 0.064   0.972      3.010\n",
      "[3] {Class=2nd,Sex=Female}         => {Survived=Yes} 0.042   0.877      2.716\n",
      "[4] {Class=Crew,Sex=Female}        => {Survived=Yes} 0.009   0.870      2.692\n",
      "[5] {Class=2nd,Sex=Male,Age=Adult} => {Survived=No}  0.070   0.917      1.354\n",
      "[6] {Class=2nd,Sex=Male}           => {Survived=No}  0.070   0.860      1.271\n",
      "[7] {Class=3rd,Sex=Male,Age=Adult} => {Survived=No}  0.176   0.838      1.237\n",
      "[8] {Class=3rd,Sex=Male}           => {Survived=No}  0.192   0.827      1.222\n",
      "    count\n",
      "[1]  24  \n",
      "[2] 141  \n",
      "[3]  93  \n",
      "[4]  20  \n",
      "[5] 154  \n",
      "[6] 154  \n",
      "[7] 387  \n",
      "[8] 422  \n"
     ]
    }
   ],
   "source": [
    "inspect(rules.prune)"
   ]
  },
  {
   "cell_type": "code",
   "execution_count": 73,
   "metadata": {},
   "outputs": [],
   "source": [
    "library(arulesViz)"
   ]
  },
  {
   "cell_type": "code",
   "execution_count": 74,
   "metadata": {},
   "outputs": [
    {
     "data": {
      "image/png": "[encoded data removed]",
      "text/plain": [
       "plot without title"
      ]
     },
     "metadata": {},
     "output_type": "display_data"
    }
   ],
   "source": [
    "plot(rules.prune,method='grouped')"
   ]
  },
  {
   "cell_type": "code",
   "execution_count": 78,
   "metadata": {},
   "outputs": [
    {
     "data": {
      "image/png": "[encoded data removed]",
      "text/plain": [
       "Plot with title \"Graph for 8 rules\""
      ]
     },
     "metadata": {},
     "output_type": "display_data"
    }
   ],
   "source": [
    "plot(rules.prune,method='graph')"
   ]
  },
  {
   "cell_type": "code",
   "execution_count": null,
   "metadata": {},
   "outputs": [],
   "source": []
  }
 ],
 "metadata": {
  "kernelspec": {
   "display_name": "R",
   "language": "R",
   "name": "ir"
  },
  "language_info": {
   "codemirror_mode": "r",
   "file_extension": ".r",
   "mimetype": "text/x-r-source",
   "name": "R",
   "pygments_lexer": "r",
   "version": "3.5.1"
  }
 },
 "nbformat": 4,
 "nbformat_minor": 2
}
